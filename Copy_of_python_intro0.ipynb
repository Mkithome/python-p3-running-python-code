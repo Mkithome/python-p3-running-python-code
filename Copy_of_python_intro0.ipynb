{
  "nbformat": 4,
  "nbformat_minor": 0,
  "metadata": {
    "colab": {
      "provenance": [],
      "authorship_tag": "ABX9TyPegRt+R27wLM+cLurAnKnz",
      "include_colab_link": true
    },
    "kernelspec": {
      "name": "python3",
      "display_name": "Python 3"
    },
    "language_info": {
      "name": "python"
    }
  },
  "cells": [
    {
      "cell_type": "markdown",
      "metadata": {
        "id": "view-in-github",
        "colab_type": "text"
      },
      "source": [
        "<a href=\"https://colab.research.google.com/github/Mkithome/python-p3-running-python-code/blob/main/Copy_of_python_intro0.ipynb\" target=\"_parent\"><img src=\"https://colab.research.google.com/assets/colab-badge.svg\" alt=\"Open In Colab\"/></a>"
      ]
    },
    {
      "cell_type": "code",
      "execution_count": null,
      "metadata": {
        "id": "r7h7AI40TQnU"
      },
      "outputs": [],
      "source": []
    },
    {
      "cell_type": "code",
      "source": [
        "print(4+79)"
      ],
      "metadata": {
        "colab": {
          "base_uri": "https://localhost:8080/"
        },
        "id": "b8zmuvrrVgpb",
        "outputId": "a0c57315-1db3-44cd-f528-ed92125691d4"
      },
      "execution_count": null,
      "outputs": [
        {
          "output_type": "stream",
          "name": "stdout",
          "text": [
            "83\n"
          ]
        }
      ]
    },
    {
      "cell_type": "code",
      "source": [
        "print(67*2)"
      ],
      "metadata": {
        "colab": {
          "base_uri": "https://localhost:8080/"
        },
        "id": "q0W4AoRxVvTj",
        "outputId": "2429b0df-54da-4443-fc5d-055c2ba425e9"
      },
      "execution_count": null,
      "outputs": [
        {
          "output_type": "stream",
          "name": "stdout",
          "text": [
            "134\n"
          ]
        }
      ]
    },
    {
      "cell_type": "code",
      "source": [
        "print (25-5)"
      ],
      "metadata": {
        "colab": {
          "base_uri": "https://localhost:8080/"
        },
        "id": "C-h41oqGWAjL",
        "outputId": "40a9f847-131b-4228-bb7a-5c03ef6919d1"
      },
      "execution_count": null,
      "outputs": [
        {
          "output_type": "stream",
          "name": "stdout",
          "text": [
            "20\n"
          ]
        }
      ]
    },
    {
      "cell_type": "code",
      "source": [
        "print(20/6)"
      ],
      "metadata": {
        "colab": {
          "base_uri": "https://localhost:8080/"
        },
        "id": "4JYsK_eVWiVx",
        "outputId": "ee5e117c-cb97-4968-ec54-f29457291ed0"
      },
      "execution_count": null,
      "outputs": [
        {
          "output_type": "stream",
          "name": "stdout",
          "text": [
            "3.3333333333333335\n"
          ]
        }
      ]
    },
    {
      "cell_type": "code",
      "source": [
        "round(5/9)"
      ],
      "metadata": {
        "colab": {
          "base_uri": "https://localhost:8080/"
        },
        "id": "pXnlwdBHYQIO",
        "outputId": "54cd2dca-5fdc-4ffd-b06c-64689bbfa77b"
      },
      "execution_count": null,
      "outputs": [
        {
          "output_type": "execute_result",
          "data": {
            "text/plain": [
              "1"
            ]
          },
          "metadata": {},
          "execution_count": 5
        }
      ]
    },
    {
      "cell_type": "code",
      "source": [
        "round(9/6 ,3)"
      ],
      "metadata": {
        "colab": {
          "base_uri": "https://localhost:8080/"
        },
        "id": "gtIt4UrEYa48",
        "outputId": "d5d4750f-9d9f-4caa-80f4-b575f4e0db11"
      },
      "execution_count": null,
      "outputs": [
        {
          "output_type": "execute_result",
          "data": {
            "text/plain": [
              "1.5"
            ]
          },
          "metadata": {},
          "execution_count": 6
        }
      ]
    },
    {
      "cell_type": "code",
      "source": [
        "print(7)"
      ],
      "metadata": {
        "colab": {
          "base_uri": "https://localhost:8080/"
        },
        "id": "ZTSKjFq0Yngp",
        "outputId": "9035d754-8d6b-41d4-b14d-0f8825bbfd05"
      },
      "execution_count": null,
      "outputs": [
        {
          "output_type": "stream",
          "name": "stdout",
          "text": [
            "7\n"
          ]
        }
      ]
    },
    {
      "cell_type": "code",
      "source": [
        "yob =1993\n",
        "print(type(yob),yob)\n",
        "\n",
        "year_of_birth = \"1993\"\n",
        "print(type(year_of_birth),year_of_birth)"
      ],
      "metadata": {
        "colab": {
          "base_uri": "https://localhost:8080/"
        },
        "id": "uBqkLTVpcIfY",
        "outputId": "d7d3eee6-34a5-482f-a6a9-83ad43ce9c2b"
      },
      "execution_count": null,
      "outputs": [
        {
          "output_type": "stream",
          "name": "stdout",
          "text": [
            "<class 'int'> 1993\n",
            "<class 'str'> 1993\n"
          ]
        }
      ]
    },
    {
      "cell_type": "code",
      "source": [
        "yob = 1993\n",
        "print(yob)\n",
        "\n",
        "year_of_birth = \"1993\"\n",
        "print(year_of_birth)"
      ],
      "metadata": {
        "colab": {
          "base_uri": "https://localhost:8080/"
        },
        "id": "Z3zWvApWdP8Z",
        "outputId": "d1c03845-72bd-4744-ca63-f6dafb7be195"
      },
      "execution_count": null,
      "outputs": [
        {
          "output_type": "stream",
          "name": "stdout",
          "text": [
            "1993\n",
            "1993\n"
          ]
        }
      ]
    },
    {
      "cell_type": "code",
      "source": [
        "cars = {'ford' ,'corvette' ,'bugatti', 'audi'}\n",
        "print(type(cars), cars)"
      ],
      "metadata": {
        "colab": {
          "base_uri": "https://localhost:8080/"
        },
        "id": "bBftbhZVieUC",
        "outputId": "7987672d-3176-4353-fee9-db12baf2dea9"
      },
      "execution_count": null,
      "outputs": [
        {
          "output_type": "stream",
          "name": "stdout",
          "text": [
            "<class 'set'> {'audi', 'ford', 'bugatti', 'corvette'}\n"
          ]
        }
      ]
    },
    {
      "cell_type": "code",
      "source": [
        "movies = ['300' , 'teken' , 'bourne legacy' , 'mission impossible' , 'mortal combat']\n",
        "movies.append('guardians of the galaxy')\n",
        "print(movies)"
      ],
      "metadata": {
        "colab": {
          "base_uri": "https://localhost:8080/"
        },
        "id": "Ih6_jCfHm2gq",
        "outputId": "aa9dacd2-5320-4f20-9598-c5aa29971c4c"
      },
      "execution_count": null,
      "outputs": [
        {
          "output_type": "stream",
          "name": "stdout",
          "text": [
            "['300', 'teken', 'bourne legacy', 'mission impossible', 'mortal combat', 'guardians of the galaxy']\n"
          ]
        }
      ]
    },
    {
      "cell_type": "code",
      "source": [],
      "metadata": {
        "id": "2hXPP0XFnpCv"
      },
      "execution_count": null,
      "outputs": []
    }
  ]
}